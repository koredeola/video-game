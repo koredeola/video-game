{
 "cells": [
  {
   "cell_type": "code",
   "execution_count": 147,
   "id": "9cd1cba6-471e-409c-9a10-3c425f3dcca6",
   "metadata": {},
   "outputs": [],
   "source": [
    "import numpy as np\n",
    "import pandas as pd\n",
    "import matplotlib.pyplot as plt"
   ]
  },
  {
   "cell_type": "code",
   "execution_count": 7,
   "id": "60a77afd-e27c-4b46-9567-fd0522ccf12c",
   "metadata": {},
   "outputs": [],
   "source": [
    "df = pd.read_csv('vgchartz-2024.csv')"
   ]
  },
  {
   "cell_type": "code",
   "execution_count": 9,
   "id": "89c1c6a7-1149-46a7-b5fc-6cc0b3a505da",
   "metadata": {},
   "outputs": [
    {
     "data": {
      "text/plain": [
       "<bound method NDFrame.head of                                                  img  \\\n",
       "0      /games/boxart/full_6510540AmericaFrontccc.jpg   \n",
       "1      /games/boxart/full_5563178AmericaFrontccc.jpg   \n",
       "2                        /games/boxart/827563ccc.jpg   \n",
       "3      /games/boxart/full_9218923AmericaFrontccc.jpg   \n",
       "4      /games/boxart/full_4990510AmericaFrontccc.jpg   \n",
       "...                                              ...   \n",
       "64011  /games/boxart/full_2779838AmericaFrontccc.jpg   \n",
       "64012  /games/boxart/full_8031506AmericaFrontccc.jpg   \n",
       "64013  /games/boxart/full_6553045AmericaFrontccc.jpg   \n",
       "64014    /games/boxart/full_6012940JapanFrontccc.png   \n",
       "64015                      /games/boxart/default.jpg   \n",
       "\n",
       "                                  title console         genre  \\\n",
       "0                    Grand Theft Auto V     PS3        Action   \n",
       "1                    Grand Theft Auto V     PS4        Action   \n",
       "2           Grand Theft Auto: Vice City     PS2        Action   \n",
       "3                    Grand Theft Auto V    X360        Action   \n",
       "4             Call of Duty: Black Ops 3     PS4       Shooter   \n",
       "...                                 ...     ...           ...   \n",
       "64011             XBlaze Lost: Memories      PC  Visual Novel   \n",
       "64012                      Yoru, Tomosu     PS4  Visual Novel   \n",
       "64013                      Yoru, Tomosu      NS  Visual Novel   \n",
       "64014   Yunohana SpRING! ~Mellow Times~      NS  Visual Novel   \n",
       "64015  Yurukill: The Calumniation Games     PS4  Visual Novel   \n",
       "\n",
       "                  publisher             developer  critic_score  total_sales  \\\n",
       "0            Rockstar Games        Rockstar North           9.4        20.32   \n",
       "1            Rockstar Games        Rockstar North           9.7        19.39   \n",
       "2            Rockstar Games        Rockstar North           9.6        16.15   \n",
       "3            Rockstar Games        Rockstar North           NaN        15.86   \n",
       "4                Activision              Treyarch           8.1        15.09   \n",
       "...                     ...                   ...           ...          ...   \n",
       "64011           Aksys Games      Arc System Works           NaN          NaN   \n",
       "64012  Nippon Ichi Software  Nippon Ichi Software           NaN          NaN   \n",
       "64013  Nippon Ichi Software  Nippon Ichi Software           NaN          NaN   \n",
       "64014          Idea Factory               Otomate           NaN          NaN   \n",
       "64015               Unknown            G.rev Ltd.           NaN          NaN   \n",
       "\n",
       "       na_sales  jp_sales  pal_sales  other_sales release_date last_update  \n",
       "0          6.37      0.99       9.85         3.12   2013-09-17         NaN  \n",
       "1          6.06      0.60       9.71         3.02   2014-11-18  2018-01-03  \n",
       "2          8.41      0.47       5.49         1.78   2002-10-28         NaN  \n",
       "3          9.06      0.06       5.33         1.42   2013-09-17         NaN  \n",
       "4          6.18      0.41       6.05         2.44   2015-11-06  2018-01-14  \n",
       "...         ...       ...        ...          ...          ...         ...  \n",
       "64011       NaN       NaN        NaN          NaN   2016-08-11  2019-01-28  \n",
       "64012       NaN       NaN        NaN          NaN   2020-07-30  2020-05-09  \n",
       "64013       NaN       NaN        NaN          NaN   2020-07-30  2020-05-09  \n",
       "64014       NaN       NaN        NaN          NaN   2019-02-28  2019-02-24  \n",
       "64015       NaN       NaN        NaN          NaN          NaN  2023-09-29  \n",
       "\n",
       "[64016 rows x 14 columns]>"
      ]
     },
     "execution_count": 9,
     "metadata": {},
     "output_type": "execute_result"
    }
   ],
   "source": [
    "df.head"
   ]
  },
  {
   "cell_type": "code",
   "execution_count": 11,
   "id": "ad9c74af-c287-4904-9347-9aec0a6f2f92",
   "metadata": {},
   "outputs": [
    {
     "data": {
      "text/plain": [
       "(64016, 14)"
      ]
     },
     "execution_count": 11,
     "metadata": {},
     "output_type": "execute_result"
    }
   ],
   "source": [
    "df.shape"
   ]
  },
  {
   "cell_type": "markdown",
   "id": "d9ead408-e8b4-4ffb-9b12-ff529ff15eea",
   "metadata": {},
   "source": [
    "## Data cleaning"
   ]
  },
  {
   "cell_type": "markdown",
   "id": "ae80e785-49fe-4343-856a-4ecdbbec1308",
   "metadata": {},
   "source": [
    "### Deleting unwanted column"
   ]
  },
  {
   "cell_type": "code",
   "execution_count": 15,
   "id": "1dcd63c4-b3bc-4716-8faf-b9224fb472e5",
   "metadata": {},
   "outputs": [],
   "source": [
    "df.drop(columns = ['img'], inplace = True)"
   ]
  },
  {
   "cell_type": "code",
   "execution_count": 19,
   "id": "65a6a33c-24b8-4f36-b0be-bd9758e222e9",
   "metadata": {},
   "outputs": [
    {
     "data": {
      "text/plain": [
       "Index(['title', 'console', 'genre', 'publisher', 'developer', 'critic_score',\n",
       "       'total_sales', 'na_sales', 'jp_sales', 'pal_sales', 'other_sales',\n",
       "       'release_date', 'last_update'],\n",
       "      dtype='object')"
      ]
     },
     "execution_count": 19,
     "metadata": {},
     "output_type": "execute_result"
    }
   ],
   "source": [
    "df.columns"
   ]
  },
  {
   "cell_type": "markdown",
   "id": "8d4f8b03-c2e4-4618-b2a1-ad3ba48e80d2",
   "metadata": {},
   "source": [
    "### Checking for Null value"
   ]
  },
  {
   "cell_type": "code",
   "execution_count": 23,
   "id": "00341175-0f68-49bb-aae7-e054e2feac3c",
   "metadata": {},
   "outputs": [
    {
     "data": {
      "text/plain": [
       "<bound method DataFrame.sum of        title  console  genre  publisher  developer  critic_score  total_sales  \\\n",
       "0      False    False  False      False      False         False        False   \n",
       "1      False    False  False      False      False         False        False   \n",
       "2      False    False  False      False      False         False        False   \n",
       "3      False    False  False      False      False          True        False   \n",
       "4      False    False  False      False      False         False        False   \n",
       "...      ...      ...    ...        ...        ...           ...          ...   \n",
       "64011  False    False  False      False      False          True         True   \n",
       "64012  False    False  False      False      False          True         True   \n",
       "64013  False    False  False      False      False          True         True   \n",
       "64014  False    False  False      False      False          True         True   \n",
       "64015  False    False  False      False      False          True         True   \n",
       "\n",
       "       na_sales  jp_sales  pal_sales  other_sales  release_date  last_update  \n",
       "0         False     False      False        False         False         True  \n",
       "1         False     False      False        False         False        False  \n",
       "2         False     False      False        False         False         True  \n",
       "3         False     False      False        False         False         True  \n",
       "4         False     False      False        False         False        False  \n",
       "...         ...       ...        ...          ...           ...          ...  \n",
       "64011      True      True       True         True         False        False  \n",
       "64012      True      True       True         True         False        False  \n",
       "64013      True      True       True         True         False        False  \n",
       "64014      True      True       True         True         False        False  \n",
       "64015      True      True       True         True          True        False  \n",
       "\n",
       "[64016 rows x 13 columns]>"
      ]
     },
     "execution_count": 23,
     "metadata": {},
     "output_type": "execute_result"
    }
   ],
   "source": [
    "df.isna().sum"
   ]
  },
  {
   "cell_type": "code",
   "execution_count": 25,
   "id": "d8282b6d-0b50-484d-a658-978659741cff",
   "metadata": {},
   "outputs": [
    {
     "data": {
      "text/plain": [
       "<bound method DataFrame.info of                                   title console         genre  \\\n",
       "0                    Grand Theft Auto V     PS3        Action   \n",
       "1                    Grand Theft Auto V     PS4        Action   \n",
       "2           Grand Theft Auto: Vice City     PS2        Action   \n",
       "3                    Grand Theft Auto V    X360        Action   \n",
       "4             Call of Duty: Black Ops 3     PS4       Shooter   \n",
       "...                                 ...     ...           ...   \n",
       "64011             XBlaze Lost: Memories      PC  Visual Novel   \n",
       "64012                      Yoru, Tomosu     PS4  Visual Novel   \n",
       "64013                      Yoru, Tomosu      NS  Visual Novel   \n",
       "64014   Yunohana SpRING! ~Mellow Times~      NS  Visual Novel   \n",
       "64015  Yurukill: The Calumniation Games     PS4  Visual Novel   \n",
       "\n",
       "                  publisher             developer  critic_score  total_sales  \\\n",
       "0            Rockstar Games        Rockstar North           9.4        20.32   \n",
       "1            Rockstar Games        Rockstar North           9.7        19.39   \n",
       "2            Rockstar Games        Rockstar North           9.6        16.15   \n",
       "3            Rockstar Games        Rockstar North           NaN        15.86   \n",
       "4                Activision              Treyarch           8.1        15.09   \n",
       "...                     ...                   ...           ...          ...   \n",
       "64011           Aksys Games      Arc System Works           NaN          NaN   \n",
       "64012  Nippon Ichi Software  Nippon Ichi Software           NaN          NaN   \n",
       "64013  Nippon Ichi Software  Nippon Ichi Software           NaN          NaN   \n",
       "64014          Idea Factory               Otomate           NaN          NaN   \n",
       "64015               Unknown            G.rev Ltd.           NaN          NaN   \n",
       "\n",
       "       na_sales  jp_sales  pal_sales  other_sales release_date last_update  \n",
       "0          6.37      0.99       9.85         3.12   2013-09-17         NaN  \n",
       "1          6.06      0.60       9.71         3.02   2014-11-18  2018-01-03  \n",
       "2          8.41      0.47       5.49         1.78   2002-10-28         NaN  \n",
       "3          9.06      0.06       5.33         1.42   2013-09-17         NaN  \n",
       "4          6.18      0.41       6.05         2.44   2015-11-06  2018-01-14  \n",
       "...         ...       ...        ...          ...          ...         ...  \n",
       "64011       NaN       NaN        NaN          NaN   2016-08-11  2019-01-28  \n",
       "64012       NaN       NaN        NaN          NaN   2020-07-30  2020-05-09  \n",
       "64013       NaN       NaN        NaN          NaN   2020-07-30  2020-05-09  \n",
       "64014       NaN       NaN        NaN          NaN   2019-02-28  2019-02-24  \n",
       "64015       NaN       NaN        NaN          NaN          NaN  2023-09-29  \n",
       "\n",
       "[64016 rows x 13 columns]>"
      ]
     },
     "execution_count": 25,
     "metadata": {},
     "output_type": "execute_result"
    }
   ],
   "source": [
    "df.info"
   ]
  },
  {
   "cell_type": "markdown",
   "id": "db7608d8-0b1b-4fcf-a6e2-a9b087b3110b",
   "metadata": {},
   "source": [
    "##### Handling null values from Numeric Datatype"
   ]
  },
  {
   "cell_type": "code",
   "execution_count": 30,
   "id": "8d30c5e1-8588-4545-9003-ad186f35f994",
   "metadata": {},
   "outputs": [],
   "source": [
    "num_cols = df.select_dtypes(include = np.number).columns.tolist()"
   ]
  },
  {
   "cell_type": "code",
   "execution_count": 32,
   "id": "64be2747-1af4-4110-8648-c681ee9f54ef",
   "metadata": {},
   "outputs": [
    {
     "data": {
      "text/plain": [
       "['critic_score',\n",
       " 'total_sales',\n",
       " 'na_sales',\n",
       " 'jp_sales',\n",
       " 'pal_sales',\n",
       " 'other_sales']"
      ]
     },
     "execution_count": 32,
     "metadata": {},
     "output_type": "execute_result"
    }
   ],
   "source": [
    "num_cols"
   ]
  },
  {
   "cell_type": "markdown",
   "id": "88895e54-7482-454a-8bc1-0ba892ce91a3",
   "metadata": {},
   "source": [
    "##### Imputation of null values from Numeric Datatype"
   ]
  },
  {
   "cell_type": "code",
   "execution_count": 61,
   "id": "5379539a-4043-4cbb-bd44-e7befde30c05",
   "metadata": {},
   "outputs": [],
   "source": [
    "from sklearn.impute import SimpleImputer"
   ]
  },
  {
   "cell_type": "code",
   "execution_count": 63,
   "id": "f4e5f603-7efd-4431-9fc4-c81ad6f2494b",
   "metadata": {},
   "outputs": [],
   "source": [
    "imputer = SimpleImputer(strategy='mean')"
   ]
  },
  {
   "cell_type": "code",
   "execution_count": 69,
   "id": "85496297-bbf5-428a-b783-a3f2074da7f3",
   "metadata": {},
   "outputs": [],
   "source": [
    "df[num_cols] = imputer.fit_transform(df[num_cols])"
   ]
  },
  {
   "cell_type": "code",
   "execution_count": 71,
   "id": "e5143274-4319-40a5-9edd-61ed62099d14",
   "metadata": {},
   "outputs": [
    {
     "data": {
      "text/plain": [
       "<bound method DataFrame.info of                                   title console         genre  \\\n",
       "0                    Grand Theft Auto V     PS3        Action   \n",
       "1                    Grand Theft Auto V     PS4        Action   \n",
       "2           Grand Theft Auto: Vice City     PS2        Action   \n",
       "3                    Grand Theft Auto V    X360        Action   \n",
       "4             Call of Duty: Black Ops 3     PS4       Shooter   \n",
       "...                                 ...     ...           ...   \n",
       "64011             XBlaze Lost: Memories      PC  Visual Novel   \n",
       "64012                      Yoru, Tomosu     PS4  Visual Novel   \n",
       "64013                      Yoru, Tomosu      NS  Visual Novel   \n",
       "64014   Yunohana SpRING! ~Mellow Times~      NS  Visual Novel   \n",
       "64015  Yurukill: The Calumniation Games     PS4  Visual Novel   \n",
       "\n",
       "                  publisher             developer  critic_score  total_sales  \\\n",
       "0            Rockstar Games        Rockstar North       9.40000    20.320000   \n",
       "1            Rockstar Games        Rockstar North       9.70000    19.390000   \n",
       "2            Rockstar Games        Rockstar North       9.60000    16.150000   \n",
       "3            Rockstar Games        Rockstar North       7.22044    15.860000   \n",
       "4                Activision              Treyarch       8.10000    15.090000   \n",
       "...                     ...                   ...           ...          ...   \n",
       "64011           Aksys Games      Arc System Works       7.22044     0.349113   \n",
       "64012  Nippon Ichi Software  Nippon Ichi Software       7.22044     0.349113   \n",
       "64013  Nippon Ichi Software  Nippon Ichi Software       7.22044     0.349113   \n",
       "64014          Idea Factory               Otomate       7.22044     0.349113   \n",
       "64015               Unknown            G.rev Ltd.       7.22044     0.349113   \n",
       "\n",
       "       na_sales  jp_sales  pal_sales  other_sales release_date last_update  \n",
       "0       6.37000  0.990000   9.850000     3.120000   2013-09-17         NaN  \n",
       "1       6.06000  0.600000   9.710000     3.020000   2014-11-18  2018-01-03  \n",
       "2       8.41000  0.470000   5.490000     1.780000   2002-10-28         NaN  \n",
       "3       9.06000  0.060000   5.330000     1.420000   2013-09-17         NaN  \n",
       "4       6.18000  0.410000   6.050000     2.440000   2015-11-06  2018-01-14  \n",
       "...         ...       ...        ...          ...          ...         ...  \n",
       "64011   0.26474  0.102281   0.149472     0.043041   2016-08-11  2019-01-28  \n",
       "64012   0.26474  0.102281   0.149472     0.043041   2020-07-30  2020-05-09  \n",
       "64013   0.26474  0.102281   0.149472     0.043041   2020-07-30  2020-05-09  \n",
       "64014   0.26474  0.102281   0.149472     0.043041   2019-02-28  2019-02-24  \n",
       "64015   0.26474  0.102281   0.149472     0.043041          NaN  2023-09-29  \n",
       "\n",
       "[64016 rows x 13 columns]>"
      ]
     },
     "execution_count": 71,
     "metadata": {},
     "output_type": "execute_result"
    }
   ],
   "source": [
    "df.info"
   ]
  },
  {
   "cell_type": "code",
   "execution_count": 77,
   "id": "6e6ab7c8-97e3-40d6-aaac-818446c13033",
   "metadata": {},
   "outputs": [
    {
     "data": {
      "text/plain": [
       "title               0\n",
       "console             0\n",
       "genre               0\n",
       "publisher           0\n",
       "developer          17\n",
       "critic_score        0\n",
       "total_sales         0\n",
       "na_sales            0\n",
       "jp_sales            0\n",
       "pal_sales           0\n",
       "other_sales         0\n",
       "release_date     7051\n",
       "last_update     46137\n",
       "dtype: int64"
      ]
     },
     "execution_count": 77,
     "metadata": {},
     "output_type": "execute_result"
    }
   ],
   "source": [
    "df.isna().sum()"
   ]
  },
  {
   "cell_type": "markdown",
   "id": "1369afb1-a527-4e6a-9372-dd155469d1a4",
   "metadata": {},
   "source": [
    "##### Handling null values from Datatime Datatype"
   ]
  },
  {
   "cell_type": "markdown",
   "id": "d53a8220-a649-41f8-8044-440be0e695d9",
   "metadata": {},
   "source": [
    "###### Converting the datatype of date column"
   ]
  },
  {
   "cell_type": "code",
   "execution_count": 86,
   "id": "7e87bfd8-1baa-4880-9ef5-078fd842e713",
   "metadata": {},
   "outputs": [],
   "source": [
    "df['release_date'] = pd.to_datetime(df['release_date'])"
   ]
  },
  {
   "cell_type": "code",
   "execution_count": 88,
   "id": "7eaea37e-2b52-4885-b9a6-6ba46b461d1a",
   "metadata": {},
   "outputs": [],
   "source": [
    "df['last_update'] = pd.to_datetime(df['last_update'])"
   ]
  },
  {
   "cell_type": "code",
   "execution_count": 90,
   "id": "886a7e9e-9dfe-49ca-b049-e1ae54fd4bd8",
   "metadata": {},
   "outputs": [
    {
     "data": {
      "text/plain": [
       "<bound method DataFrame.info of                                   title console         genre  \\\n",
       "0                    Grand Theft Auto V     PS3        Action   \n",
       "1                    Grand Theft Auto V     PS4        Action   \n",
       "2           Grand Theft Auto: Vice City     PS2        Action   \n",
       "3                    Grand Theft Auto V    X360        Action   \n",
       "4             Call of Duty: Black Ops 3     PS4       Shooter   \n",
       "...                                 ...     ...           ...   \n",
       "64011             XBlaze Lost: Memories      PC  Visual Novel   \n",
       "64012                      Yoru, Tomosu     PS4  Visual Novel   \n",
       "64013                      Yoru, Tomosu      NS  Visual Novel   \n",
       "64014   Yunohana SpRING! ~Mellow Times~      NS  Visual Novel   \n",
       "64015  Yurukill: The Calumniation Games     PS4  Visual Novel   \n",
       "\n",
       "                  publisher             developer  critic_score  total_sales  \\\n",
       "0            Rockstar Games        Rockstar North       9.40000    20.320000   \n",
       "1            Rockstar Games        Rockstar North       9.70000    19.390000   \n",
       "2            Rockstar Games        Rockstar North       9.60000    16.150000   \n",
       "3            Rockstar Games        Rockstar North       7.22044    15.860000   \n",
       "4                Activision              Treyarch       8.10000    15.090000   \n",
       "...                     ...                   ...           ...          ...   \n",
       "64011           Aksys Games      Arc System Works       7.22044     0.349113   \n",
       "64012  Nippon Ichi Software  Nippon Ichi Software       7.22044     0.349113   \n",
       "64013  Nippon Ichi Software  Nippon Ichi Software       7.22044     0.349113   \n",
       "64014          Idea Factory               Otomate       7.22044     0.349113   \n",
       "64015               Unknown            G.rev Ltd.       7.22044     0.349113   \n",
       "\n",
       "       na_sales  jp_sales  pal_sales  other_sales release_date last_update  \n",
       "0       6.37000  0.990000   9.850000     3.120000   2013-09-17         NaT  \n",
       "1       6.06000  0.600000   9.710000     3.020000   2014-11-18  2018-01-03  \n",
       "2       8.41000  0.470000   5.490000     1.780000   2002-10-28         NaT  \n",
       "3       9.06000  0.060000   5.330000     1.420000   2013-09-17         NaT  \n",
       "4       6.18000  0.410000   6.050000     2.440000   2015-11-06  2018-01-14  \n",
       "...         ...       ...        ...          ...          ...         ...  \n",
       "64011   0.26474  0.102281   0.149472     0.043041   2016-08-11  2019-01-28  \n",
       "64012   0.26474  0.102281   0.149472     0.043041   2020-07-30  2020-05-09  \n",
       "64013   0.26474  0.102281   0.149472     0.043041   2020-07-30  2020-05-09  \n",
       "64014   0.26474  0.102281   0.149472     0.043041   2019-02-28  2019-02-24  \n",
       "64015   0.26474  0.102281   0.149472     0.043041          NaT  2023-09-29  \n",
       "\n",
       "[64016 rows x 13 columns]>"
      ]
     },
     "execution_count": 90,
     "metadata": {},
     "output_type": "execute_result"
    }
   ],
   "source": [
    "df.info"
   ]
  },
  {
   "cell_type": "markdown",
   "id": "1ef4400f-1ee1-4078-9e2c-d331613deca2",
   "metadata": {},
   "source": [
    "###### To fill in the date with median"
   ]
  },
  {
   "cell_type": "code",
   "execution_count": 98,
   "id": "63e51d0d-5951-4785-99f0-203348523880",
   "metadata": {},
   "outputs": [],
   "source": [
    "df['release_date'] = df['release_date'].fillna(df['release_date'].mean())"
   ]
  },
  {
   "cell_type": "code",
   "execution_count": 100,
   "id": "7c70c36b-eea5-4a0f-8d9c-4783acf30e3a",
   "metadata": {},
   "outputs": [
    {
     "data": {
      "text/plain": [
       "title               0\n",
       "console             0\n",
       "genre               0\n",
       "publisher           0\n",
       "developer          17\n",
       "critic_score        0\n",
       "total_sales         0\n",
       "na_sales            0\n",
       "jp_sales            0\n",
       "pal_sales           0\n",
       "other_sales         0\n",
       "release_date        0\n",
       "last_update     46137\n",
       "dtype: int64"
      ]
     },
     "execution_count": 100,
     "metadata": {},
     "output_type": "execute_result"
    }
   ],
   "source": [
    "df.isna().sum()"
   ]
  },
  {
   "cell_type": "markdown",
   "id": "1c379eff-dffa-4b36-83e6-315474ca6f34",
   "metadata": {},
   "source": [
    "##### Handling null values from Object column"
   ]
  },
  {
   "cell_type": "code",
   "execution_count": 104,
   "id": "6d02551c-8969-4783-bfe7-4508770066dc",
   "metadata": {},
   "outputs": [],
   "source": [
    "df.dropna(inplace = True)"
   ]
  },
  {
   "cell_type": "code",
   "execution_count": 106,
   "id": "b9a2e94c-eef4-44f3-a242-fe8dac2ae7da",
   "metadata": {},
   "outputs": [
    {
     "data": {
      "text/plain": [
       "title           0\n",
       "console         0\n",
       "genre           0\n",
       "publisher       0\n",
       "developer       0\n",
       "critic_score    0\n",
       "total_sales     0\n",
       "na_sales        0\n",
       "jp_sales        0\n",
       "pal_sales       0\n",
       "other_sales     0\n",
       "release_date    0\n",
       "last_update     0\n",
       "dtype: int64"
      ]
     },
     "execution_count": 106,
     "metadata": {},
     "output_type": "execute_result"
    }
   ],
   "source": [
    "df.isna().sum()"
   ]
  },
  {
   "cell_type": "code",
   "execution_count": 108,
   "id": "cdf81b0c-8eba-4f7f-99a2-2976b36a6e53",
   "metadata": {},
   "outputs": [
    {
     "data": {
      "text/plain": [
       "<bound method DataFrame.info of                                   title console             genre  \\\n",
       "1                    Grand Theft Auto V     PS4            Action   \n",
       "4             Call of Duty: Black Ops 3     PS4           Shooter   \n",
       "7                 Red Dead Redemption 2     PS4  Action-Adventure   \n",
       "8            Call of Duty: Black Ops II    X360           Shooter   \n",
       "9            Call of Duty: Black Ops II     PS3           Shooter   \n",
       "...                                 ...     ...               ...   \n",
       "64011             XBlaze Lost: Memories      PC      Visual Novel   \n",
       "64012                      Yoru, Tomosu     PS4      Visual Novel   \n",
       "64013                      Yoru, Tomosu      NS      Visual Novel   \n",
       "64014   Yunohana SpRING! ~Mellow Times~      NS      Visual Novel   \n",
       "64015  Yurukill: The Calumniation Games     PS4      Visual Novel   \n",
       "\n",
       "                  publisher             developer  critic_score  total_sales  \\\n",
       "1            Rockstar Games        Rockstar North       9.70000    19.390000   \n",
       "4                Activision              Treyarch       8.10000    15.090000   \n",
       "7            Rockstar Games        Rockstar Games       9.80000    13.940000   \n",
       "8                Activision              Treyarch       8.40000    13.860000   \n",
       "9                Activision              Treyarch       8.00000    13.800000   \n",
       "...                     ...                   ...           ...          ...   \n",
       "64011           Aksys Games      Arc System Works       7.22044     0.349113   \n",
       "64012  Nippon Ichi Software  Nippon Ichi Software       7.22044     0.349113   \n",
       "64013  Nippon Ichi Software  Nippon Ichi Software       7.22044     0.349113   \n",
       "64014          Idea Factory               Otomate       7.22044     0.349113   \n",
       "64015               Unknown            G.rev Ltd.       7.22044     0.349113   \n",
       "\n",
       "       na_sales  jp_sales  pal_sales  other_sales  \\\n",
       "1       6.06000  0.600000   9.710000     3.020000   \n",
       "4       6.18000  0.410000   6.050000     2.440000   \n",
       "7       5.26000  0.210000   6.210000     2.260000   \n",
       "8       8.27000  0.070000   4.320000     1.200000   \n",
       "9       4.99000  0.650000   5.880000     2.280000   \n",
       "...         ...       ...        ...          ...   \n",
       "64011   0.26474  0.102281   0.149472     0.043041   \n",
       "64012   0.26474  0.102281   0.149472     0.043041   \n",
       "64013   0.26474  0.102281   0.149472     0.043041   \n",
       "64014   0.26474  0.102281   0.149472     0.043041   \n",
       "64015   0.26474  0.102281   0.149472     0.043041   \n",
       "\n",
       "                       release_date last_update  \n",
       "1     2014-11-18 00:00:00.000000000  2018-01-03  \n",
       "4     2015-11-06 00:00:00.000000000  2018-01-14  \n",
       "7     2018-10-26 00:00:00.000000000  2018-11-02  \n",
       "8     2012-11-13 00:00:00.000000000  2018-04-07  \n",
       "9     2012-11-13 00:00:00.000000000  2018-04-07  \n",
       "...                             ...         ...  \n",
       "64011 2016-08-11 00:00:00.000000000  2019-01-28  \n",
       "64012 2020-07-30 00:00:00.000000000  2020-05-09  \n",
       "64013 2020-07-30 00:00:00.000000000  2020-05-09  \n",
       "64014 2019-02-28 00:00:00.000000000  2019-02-24  \n",
       "64015 2006-11-14 06:33:03.491617792  2023-09-29  \n",
       "\n",
       "[17877 rows x 13 columns]>"
      ]
     },
     "execution_count": 108,
     "metadata": {},
     "output_type": "execute_result"
    }
   ],
   "source": [
    "df.info"
   ]
  },
  {
   "cell_type": "markdown",
   "id": "ab2992b1-0996-4016-9d70-8f87f1943732",
   "metadata": {},
   "source": [
    "## Exploratory Data Analysis"
   ]
  },
  {
   "cell_type": "markdown",
   "id": "78033a2f-1995-4924-b9f8-c7553def318b",
   "metadata": {},
   "source": [
    "### The titles that sold the most world wide"
   ]
  },
  {
   "cell_type": "code",
   "execution_count": 115,
   "id": "4069936b-d84e-459a-8ca3-738cfb203d31",
   "metadata": {},
   "outputs": [
    {
     "data": {
      "text/plain": [
       "Index(['title', 'console', 'genre', 'publisher', 'developer', 'critic_score',\n",
       "       'total_sales', 'na_sales', 'jp_sales', 'pal_sales', 'other_sales',\n",
       "       'release_date', 'last_update'],\n",
       "      dtype='object')"
      ]
     },
     "execution_count": 115,
     "metadata": {},
     "output_type": "execute_result"
    }
   ],
   "source": [
    "df.columns"
   ]
  },
  {
   "cell_type": "code",
   "execution_count": 121,
   "id": "a850af3e-7d01-461f-b446-1453c541cf7c",
   "metadata": {},
   "outputs": [
    {
     "data": {
      "text/plain": [
       "title\n",
       "\"Nuke It\"                       0.349113\n",
       "#DRIVE Rally                    2.094676\n",
       "#killallzombies                 0.349113\n",
       "(c-12) Final Resistance         0.349113\n",
       "- Arcane RERaise -              0.349113\n",
       "                                  ...   \n",
       "theHunter: Call of the Wild     0.799113\n",
       "uDraw Studio: Instant Artist    0.020000\n",
       "way to the woods                0.698225\n",
       "じんるいのみなさまへ                      0.349113\n",
       "レミロア~少女と異世界と魔導書                 0.349113\n",
       "Name: total_sales, Length: 9083, dtype: float64"
      ]
     },
     "execution_count": 121,
     "metadata": {},
     "output_type": "execute_result"
    }
   ],
   "source": [
    "df.groupby('title')['total_sales'].sum()"
   ]
  },
  {
   "cell_type": "code",
   "execution_count": 123,
   "id": "bdc5e2a4-ec42-4be4-a81b-c51804679c41",
   "metadata": {},
   "outputs": [],
   "source": [
    "sales_by_title = df.groupby('title')['total_sales'].sum().reset_index()"
   ]
  },
  {
   "cell_type": "code",
   "execution_count": 129,
   "id": "1e0e519e-9bc3-4b8d-98cd-eafa1f711130",
   "metadata": {},
   "outputs": [],
   "source": [
    "sales_by_title_sorted = sales_by_title.sort_values(by='total_sales', ascending=False)"
   ]
  },
  {
   "cell_type": "code",
   "execution_count": 131,
   "id": "edc27b74-1f9f-4e00-befd-b15318b6bbc8",
   "metadata": {},
   "outputs": [
    {
     "data": {
      "text/html": [
       "<div>\n",
       "<style scoped>\n",
       "    .dataframe tbody tr th:only-of-type {\n",
       "        vertical-align: middle;\n",
       "    }\n",
       "\n",
       "    .dataframe tbody tr th {\n",
       "        vertical-align: top;\n",
       "    }\n",
       "\n",
       "    .dataframe thead th {\n",
       "        text-align: right;\n",
       "    }\n",
       "</style>\n",
       "<table border=\"1\" class=\"dataframe\">\n",
       "  <thead>\n",
       "    <tr style=\"text-align: right;\">\n",
       "      <th></th>\n",
       "      <th>title</th>\n",
       "      <th>total_sales</th>\n",
       "    </tr>\n",
       "  </thead>\n",
       "  <tbody>\n",
       "    <tr>\n",
       "      <th>1220</th>\n",
       "      <td>Call of Duty: Black Ops II</td>\n",
       "      <td>29.939113</td>\n",
       "    </tr>\n",
       "    <tr>\n",
       "      <th>3100</th>\n",
       "      <td>Grand Theft Auto V</td>\n",
       "      <td>29.506451</td>\n",
       "    </tr>\n",
       "    <tr>\n",
       "      <th>1223</th>\n",
       "      <td>Call of Duty: Ghosts</td>\n",
       "      <td>29.149113</td>\n",
       "    </tr>\n",
       "    <tr>\n",
       "      <th>1218</th>\n",
       "      <td>Call of Duty: Black Ops 3</td>\n",
       "      <td>26.720000</td>\n",
       "    </tr>\n",
       "    <tr>\n",
       "      <th>4691</th>\n",
       "      <td>Minecraft</td>\n",
       "      <td>26.104676</td>\n",
       "    </tr>\n",
       "    <tr>\n",
       "      <th>...</th>\n",
       "      <td>...</td>\n",
       "      <td>...</td>\n",
       "    </tr>\n",
       "    <tr>\n",
       "      <th>2404</th>\n",
       "      <td>Everything's Rosie</td>\n",
       "      <td>0.000000</td>\n",
       "    </tr>\n",
       "    <tr>\n",
       "      <th>3357</th>\n",
       "      <td>Hello Kitty Picnic with Sanrio Friends</td>\n",
       "      <td>0.000000</td>\n",
       "    </tr>\n",
       "    <tr>\n",
       "      <th>1142</th>\n",
       "      <td>Broken Sword: The Serpent's Curse</td>\n",
       "      <td>0.000000</td>\n",
       "    </tr>\n",
       "    <tr>\n",
       "      <th>4387</th>\n",
       "      <td>Mahjong Mysteries: Ancient Egypt</td>\n",
       "      <td>0.000000</td>\n",
       "    </tr>\n",
       "    <tr>\n",
       "      <th>2228</th>\n",
       "      <td>Dynamic Chord feat. Kyohso: V Edition</td>\n",
       "      <td>0.000000</td>\n",
       "    </tr>\n",
       "  </tbody>\n",
       "</table>\n",
       "<p>9083 rows × 2 columns</p>\n",
       "</div>"
      ],
      "text/plain": [
       "                                       title  total_sales\n",
       "1220              Call of Duty: Black Ops II    29.939113\n",
       "3100                      Grand Theft Auto V    29.506451\n",
       "1223                    Call of Duty: Ghosts    29.149113\n",
       "1218               Call of Duty: Black Ops 3    26.720000\n",
       "4691                               Minecraft    26.104676\n",
       "...                                      ...          ...\n",
       "2404                      Everything's Rosie     0.000000\n",
       "3357  Hello Kitty Picnic with Sanrio Friends     0.000000\n",
       "1142       Broken Sword: The Serpent's Curse     0.000000\n",
       "4387        Mahjong Mysteries: Ancient Egypt     0.000000\n",
       "2228   Dynamic Chord feat. Kyohso: V Edition     0.000000\n",
       "\n",
       "[9083 rows x 2 columns]"
      ]
     },
     "execution_count": 131,
     "metadata": {},
     "output_type": "execute_result"
    }
   ],
   "source": [
    "sales_by_title_sorted"
   ]
  },
  {
   "cell_type": "markdown",
   "id": "4acc47de-478c-4a1e-bac7-3b3145684d91",
   "metadata": {},
   "source": [
    "###### To Plot the Top 10"
   ]
  },
  {
   "cell_type": "code",
   "execution_count": 139,
   "id": "93fae06d-7e4b-49f4-844b-90e80f9c348b",
   "metadata": {},
   "outputs": [],
   "source": [
    "Top_titles = sales_by_title_sorted.head(10)"
   ]
  },
  {
   "cell_type": "code",
   "execution_count": 141,
   "id": "d04e9c42-7844-4fe8-95e7-856626201d82",
   "metadata": {},
   "outputs": [
    {
     "data": {
      "text/html": [
       "<div>\n",
       "<style scoped>\n",
       "    .dataframe tbody tr th:only-of-type {\n",
       "        vertical-align: middle;\n",
       "    }\n",
       "\n",
       "    .dataframe tbody tr th {\n",
       "        vertical-align: top;\n",
       "    }\n",
       "\n",
       "    .dataframe thead th {\n",
       "        text-align: right;\n",
       "    }\n",
       "</style>\n",
       "<table border=\"1\" class=\"dataframe\">\n",
       "  <thead>\n",
       "    <tr style=\"text-align: right;\">\n",
       "      <th></th>\n",
       "      <th>title</th>\n",
       "      <th>total_sales</th>\n",
       "    </tr>\n",
       "  </thead>\n",
       "  <tbody>\n",
       "    <tr>\n",
       "      <th>1220</th>\n",
       "      <td>Call of Duty: Black Ops II</td>\n",
       "      <td>29.939113</td>\n",
       "    </tr>\n",
       "    <tr>\n",
       "      <th>3100</th>\n",
       "      <td>Grand Theft Auto V</td>\n",
       "      <td>29.506451</td>\n",
       "    </tr>\n",
       "    <tr>\n",
       "      <th>1223</th>\n",
       "      <td>Call of Duty: Ghosts</td>\n",
       "      <td>29.149113</td>\n",
       "    </tr>\n",
       "    <tr>\n",
       "      <th>1218</th>\n",
       "      <td>Call of Duty: Black Ops 3</td>\n",
       "      <td>26.720000</td>\n",
       "    </tr>\n",
       "    <tr>\n",
       "      <th>4691</th>\n",
       "      <td>Minecraft</td>\n",
       "      <td>26.104676</td>\n",
       "    </tr>\n",
       "    <tr>\n",
       "      <th>1216</th>\n",
       "      <td>Call of Duty: Advanced Warfare</td>\n",
       "      <td>21.780000</td>\n",
       "    </tr>\n",
       "    <tr>\n",
       "      <th>7598</th>\n",
       "      <td>The Elder Scrolls V: Skyrim</td>\n",
       "      <td>20.859113</td>\n",
       "    </tr>\n",
       "    <tr>\n",
       "      <th>6013</th>\n",
       "      <td>Red Dead Redemption 2</td>\n",
       "      <td>20.408225</td>\n",
       "    </tr>\n",
       "    <tr>\n",
       "      <th>1233</th>\n",
       "      <td>Call of Duty: WWII</td>\n",
       "      <td>19.820000</td>\n",
       "    </tr>\n",
       "    <tr>\n",
       "      <th>2478</th>\n",
       "      <td>FIFA 15</td>\n",
       "      <td>18.030000</td>\n",
       "    </tr>\n",
       "  </tbody>\n",
       "</table>\n",
       "</div>"
      ],
      "text/plain": [
       "                               title  total_sales\n",
       "1220      Call of Duty: Black Ops II    29.939113\n",
       "3100              Grand Theft Auto V    29.506451\n",
       "1223            Call of Duty: Ghosts    29.149113\n",
       "1218       Call of Duty: Black Ops 3    26.720000\n",
       "4691                       Minecraft    26.104676\n",
       "1216  Call of Duty: Advanced Warfare    21.780000\n",
       "7598     The Elder Scrolls V: Skyrim    20.859113\n",
       "6013           Red Dead Redemption 2    20.408225\n",
       "1233              Call of Duty: WWII    19.820000\n",
       "2478                         FIFA 15    18.030000"
      ]
     },
     "execution_count": 141,
     "metadata": {},
     "output_type": "execute_result"
    }
   ],
   "source": [
    "Top_titles"
   ]
  },
  {
   "cell_type": "code",
   "execution_count": 165,
   "id": "dd79d64f-e5a0-4871-895b-d1b73cab9aad",
   "metadata": {},
   "outputs": [
    {
     "data": {
      "image/png": "[encoded data removed]",
      "text/plain": [
       "<Figure size 1200x600 with 1 Axes>"
      ]
     },
     "metadata": {},
     "output_type": "display_data"
    }
   ],
   "source": [
    "plt.figure(figsize=(12, 6))\n",
    "plt.barh(Top_titles['title'], Top_titles['total_sales'], color='skyblue')\n",
    "plt.xlabel('Total Sales (million)')\n",
    "plt.title('Top 10 Best Selling Video Game Titles Worldwide')\n",
    "plt.gca().invert_yaxis()  # To show highest selling title at the top\n",
    "plt.show()"
   ]
  },
  {
   "cell_type": "code",
   "execution_count": 167,
   "id": "937e72ce-2d90-4894-b73b-7054c9b808c4",
   "metadata": {},
   "outputs": [
    {
     "data": {
      "image/png": "[encoded data removed]",
      "text/plain": [
       "<Figure size 1200x600 with 1 Axes>"
      ]
     },
     "metadata": {},
     "output_type": "display_data"
    }
   ],
   "source": [
    "\n",
    "plt.figure(figsize=(12, 6))\n",
    "bars = plt.barh(Top_titles['title'], Top_titles['total_sales'], color='skyblue')\n",
    "for bar in bars:\n",
    "    width = bar.get_width()\n",
    "    plt.text(width + 0.5, bar.get_y() + bar.get_height() / 2, f'{width:.1f}', va='center')\n",
    "plt.xlabel('Total Sales (million)')\n",
    "plt.title('Top 10 Best Selling Video Game Titles Worldwide')\n",
    "plt.gca().invert_yaxis()  \n",
    "plt.tight_layout()\n",
    "plt.show()"
   ]
  },
  {
   "cell_type": "markdown",
   "id": "1ef2b0c7-b12c-4a41-bc3d-1c2a13a15ae8",
   "metadata": {},
   "source": [
    "### Year with highest sales, and how the industry grown over time"
   ]
  },
  {
   "cell_type": "code",
   "execution_count": 171,
   "id": "e22a5c94-2bed-4e93-bf63-7a3ef03f5e74",
   "metadata": {},
   "outputs": [],
   "source": [
    "df['release_year'] = pd.to_datetime(df['release_date']).dt.year"
   ]
  },
  {
   "cell_type": "code",
   "execution_count": 173,
   "id": "9a38d6c6-0c7a-4dbe-8109-62f39fea6559",
   "metadata": {},
   "outputs": [
    {
     "data": {
      "text/plain": [
       "<bound method NDFrame.head of                                   title console             genre  \\\n",
       "1                    Grand Theft Auto V     PS4            Action   \n",
       "4             Call of Duty: Black Ops 3     PS4           Shooter   \n",
       "7                 Red Dead Redemption 2     PS4  Action-Adventure   \n",
       "8            Call of Duty: Black Ops II    X360           Shooter   \n",
       "9            Call of Duty: Black Ops II     PS3           Shooter   \n",
       "...                                 ...     ...               ...   \n",
       "64011             XBlaze Lost: Memories      PC      Visual Novel   \n",
       "64012                      Yoru, Tomosu     PS4      Visual Novel   \n",
       "64013                      Yoru, Tomosu      NS      Visual Novel   \n",
       "64014   Yunohana SpRING! ~Mellow Times~      NS      Visual Novel   \n",
       "64015  Yurukill: The Calumniation Games     PS4      Visual Novel   \n",
       "\n",
       "                  publisher             developer  critic_score  total_sales  \\\n",
       "1            Rockstar Games        Rockstar North       9.70000    19.390000   \n",
       "4                Activision              Treyarch       8.10000    15.090000   \n",
       "7            Rockstar Games        Rockstar Games       9.80000    13.940000   \n",
       "8                Activision              Treyarch       8.40000    13.860000   \n",
       "9                Activision              Treyarch       8.00000    13.800000   \n",
       "...                     ...                   ...           ...          ...   \n",
       "64011           Aksys Games      Arc System Works       7.22044     0.349113   \n",
       "64012  Nippon Ichi Software  Nippon Ichi Software       7.22044     0.349113   \n",
       "64013  Nippon Ichi Software  Nippon Ichi Software       7.22044     0.349113   \n",
       "64014          Idea Factory               Otomate       7.22044     0.349113   \n",
       "64015               Unknown            G.rev Ltd.       7.22044     0.349113   \n",
       "\n",
       "       na_sales  jp_sales  pal_sales  other_sales  \\\n",
       "1       6.06000  0.600000   9.710000     3.020000   \n",
       "4       6.18000  0.410000   6.050000     2.440000   \n",
       "7       5.26000  0.210000   6.210000     2.260000   \n",
       "8       8.27000  0.070000   4.320000     1.200000   \n",
       "9       4.99000  0.650000   5.880000     2.280000   \n",
       "...         ...       ...        ...          ...   \n",
       "64011   0.26474  0.102281   0.149472     0.043041   \n",
       "64012   0.26474  0.102281   0.149472     0.043041   \n",
       "64013   0.26474  0.102281   0.149472     0.043041   \n",
       "64014   0.26474  0.102281   0.149472     0.043041   \n",
       "64015   0.26474  0.102281   0.149472     0.043041   \n",
       "\n",
       "                       release_date last_update  release_year  \n",
       "1     2014-11-18 00:00:00.000000000  2018-01-03          2014  \n",
       "4     2015-11-06 00:00:00.000000000  2018-01-14          2015  \n",
       "7     2018-10-26 00:00:00.000000000  2018-11-02          2018  \n",
       "8     2012-11-13 00:00:00.000000000  2018-04-07          2012  \n",
       "9     2012-11-13 00:00:00.000000000  2018-04-07          2012  \n",
       "...                             ...         ...           ...  \n",
       "64011 2016-08-11 00:00:00.000000000  2019-01-28          2016  \n",
       "64012 2020-07-30 00:00:00.000000000  2020-05-09          2020  \n",
       "64013 2020-07-30 00:00:00.000000000  2020-05-09          2020  \n",
       "64014 2019-02-28 00:00:00.000000000  2019-02-24          2019  \n",
       "64015 2006-11-14 06:33:03.491617792  2023-09-29          2006  \n",
       "\n",
       "[17877 rows x 14 columns]>"
      ]
     },
     "execution_count": 173,
     "metadata": {},
     "output_type": "execute_result"
    }
   ],
   "source": [
    "df.head"
   ]
  },
  {
   "cell_type": "markdown",
   "id": "f22d9af2-50fe-46e3-8115-e722de89bba1",
   "metadata": {},
   "source": [
    "#### Grouping year and sales"
   ]
  },
  {
   "cell_type": "code",
   "execution_count": 178,
   "id": "0d07b8ef-b4d4-4c8b-9413-cc6cba8d9f0e",
   "metadata": {},
   "outputs": [],
   "source": [
    "Sales_by_year = df.groupby('release_year')['total_sales'].sum().reset_index()"
   ]
  },
  {
   "cell_type": "code",
   "execution_count": 180,
   "id": "a10d7348-08c3-45ad-9946-4c7f0514b338",
   "metadata": {},
   "outputs": [
    {
     "data": {
      "text/html": [
       "<div>\n",
       "<style scoped>\n",
       "    .dataframe tbody tr th:only-of-type {\n",
       "        vertical-align: middle;\n",
       "    }\n",
       "\n",
       "    .dataframe tbody tr th {\n",
       "        vertical-align: top;\n",
       "    }\n",
       "\n",
       "    .dataframe thead th {\n",
       "        text-align: right;\n",
       "    }\n",
       "</style>\n",
       "<table border=\"1\" class=\"dataframe\">\n",
       "  <thead>\n",
       "    <tr style=\"text-align: right;\">\n",
       "      <th></th>\n",
       "      <th>release_year</th>\n",
       "      <th>total_sales</th>\n",
       "    </tr>\n",
       "  </thead>\n",
       "  <tbody>\n",
       "    <tr>\n",
       "      <th>0</th>\n",
       "      <td>1971</td>\n",
       "      <td>0.349113</td>\n",
       "    </tr>\n",
       "    <tr>\n",
       "      <th>1</th>\n",
       "      <td>1977</td>\n",
       "      <td>0.349113</td>\n",
       "    </tr>\n",
       "    <tr>\n",
       "      <th>2</th>\n",
       "      <td>1979</td>\n",
       "      <td>1.047338</td>\n",
       "    </tr>\n",
       "    <tr>\n",
       "      <th>3</th>\n",
       "      <td>1980</td>\n",
       "      <td>8.029591</td>\n",
       "    </tr>\n",
       "    <tr>\n",
       "      <th>4</th>\n",
       "      <td>1981</td>\n",
       "      <td>7.680479</td>\n",
       "    </tr>\n",
       "    <tr>\n",
       "      <th>5</th>\n",
       "      <td>1982</td>\n",
       "      <td>16.757408</td>\n",
       "    </tr>\n",
       "    <tr>\n",
       "      <th>6</th>\n",
       "      <td>1983</td>\n",
       "      <td>23.041436</td>\n",
       "    </tr>\n",
       "    <tr>\n",
       "      <th>7</th>\n",
       "      <td>1984</td>\n",
       "      <td>6.284028</td>\n",
       "    </tr>\n",
       "    <tr>\n",
       "      <th>8</th>\n",
       "      <td>1985</td>\n",
       "      <td>5.236690</td>\n",
       "    </tr>\n",
       "    <tr>\n",
       "      <th>9</th>\n",
       "      <td>1986</td>\n",
       "      <td>10.822493</td>\n",
       "    </tr>\n",
       "    <tr>\n",
       "      <th>10</th>\n",
       "      <td>1987</td>\n",
       "      <td>12.917169</td>\n",
       "    </tr>\n",
       "    <tr>\n",
       "      <th>11</th>\n",
       "      <td>1988</td>\n",
       "      <td>9.426042</td>\n",
       "    </tr>\n",
       "    <tr>\n",
       "      <th>12</th>\n",
       "      <td>1989</td>\n",
       "      <td>9.426042</td>\n",
       "    </tr>\n",
       "    <tr>\n",
       "      <th>13</th>\n",
       "      <td>1990</td>\n",
       "      <td>5.585803</td>\n",
       "    </tr>\n",
       "    <tr>\n",
       "      <th>14</th>\n",
       "      <td>1991</td>\n",
       "      <td>11.171606</td>\n",
       "    </tr>\n",
       "    <tr>\n",
       "      <th>15</th>\n",
       "      <td>1992</td>\n",
       "      <td>10.543380</td>\n",
       "    </tr>\n",
       "    <tr>\n",
       "      <th>16</th>\n",
       "      <td>1993</td>\n",
       "      <td>13.266282</td>\n",
       "    </tr>\n",
       "    <tr>\n",
       "      <th>17</th>\n",
       "      <td>1994</td>\n",
       "      <td>15.440958</td>\n",
       "    </tr>\n",
       "    <tr>\n",
       "      <th>18</th>\n",
       "      <td>1995</td>\n",
       "      <td>13.266282</td>\n",
       "    </tr>\n",
       "    <tr>\n",
       "      <th>19</th>\n",
       "      <td>1996</td>\n",
       "      <td>19.550310</td>\n",
       "    </tr>\n",
       "    <tr>\n",
       "      <th>20</th>\n",
       "      <td>1997</td>\n",
       "      <td>17.376521</td>\n",
       "    </tr>\n",
       "    <tr>\n",
       "      <th>21</th>\n",
       "      <td>1998</td>\n",
       "      <td>20.197408</td>\n",
       "    </tr>\n",
       "    <tr>\n",
       "      <th>22</th>\n",
       "      <td>1999</td>\n",
       "      <td>17.620958</td>\n",
       "    </tr>\n",
       "    <tr>\n",
       "      <th>23</th>\n",
       "      <td>2000</td>\n",
       "      <td>17.388296</td>\n",
       "    </tr>\n",
       "    <tr>\n",
       "      <th>24</th>\n",
       "      <td>2001</td>\n",
       "      <td>23.166521</td>\n",
       "    </tr>\n",
       "    <tr>\n",
       "      <th>25</th>\n",
       "      <td>2002</td>\n",
       "      <td>21.334746</td>\n",
       "    </tr>\n",
       "    <tr>\n",
       "      <th>26</th>\n",
       "      <td>2003</td>\n",
       "      <td>21.543859</td>\n",
       "    </tr>\n",
       "    <tr>\n",
       "      <th>27</th>\n",
       "      <td>2004</td>\n",
       "      <td>27.038774</td>\n",
       "    </tr>\n",
       "    <tr>\n",
       "      <th>28</th>\n",
       "      <td>2005</td>\n",
       "      <td>27.698535</td>\n",
       "    </tr>\n",
       "    <tr>\n",
       "      <th>29</th>\n",
       "      <td>2006</td>\n",
       "      <td>1877.065942</td>\n",
       "    </tr>\n",
       "    <tr>\n",
       "      <th>30</th>\n",
       "      <td>2007</td>\n",
       "      <td>35.173450</td>\n",
       "    </tr>\n",
       "    <tr>\n",
       "      <th>31</th>\n",
       "      <td>2008</td>\n",
       "      <td>49.157479</td>\n",
       "    </tr>\n",
       "    <tr>\n",
       "      <th>32</th>\n",
       "      <td>2009</td>\n",
       "      <td>52.656831</td>\n",
       "    </tr>\n",
       "    <tr>\n",
       "      <th>33</th>\n",
       "      <td>2010</td>\n",
       "      <td>63.313521</td>\n",
       "    </tr>\n",
       "    <tr>\n",
       "      <th>34</th>\n",
       "      <td>2011</td>\n",
       "      <td>90.691098</td>\n",
       "    </tr>\n",
       "    <tr>\n",
       "      <th>35</th>\n",
       "      <td>2012</td>\n",
       "      <td>286.517042</td>\n",
       "    </tr>\n",
       "    <tr>\n",
       "      <th>36</th>\n",
       "      <td>2013</td>\n",
       "      <td>337.120562</td>\n",
       "    </tr>\n",
       "    <tr>\n",
       "      <th>37</th>\n",
       "      <td>2014</td>\n",
       "      <td>471.493745</td>\n",
       "    </tr>\n",
       "    <tr>\n",
       "      <th>38</th>\n",
       "      <td>2015</td>\n",
       "      <td>382.844083</td>\n",
       "    </tr>\n",
       "    <tr>\n",
       "      <th>39</th>\n",
       "      <td>2016</td>\n",
       "      <td>367.271252</td>\n",
       "    </tr>\n",
       "    <tr>\n",
       "      <th>40</th>\n",
       "      <td>2017</td>\n",
       "      <td>462.513927</td>\n",
       "    </tr>\n",
       "    <tr>\n",
       "      <th>41</th>\n",
       "      <td>2018</td>\n",
       "      <td>448.885124</td>\n",
       "    </tr>\n",
       "    <tr>\n",
       "      <th>42</th>\n",
       "      <td>2019</td>\n",
       "      <td>437.195278</td>\n",
       "    </tr>\n",
       "    <tr>\n",
       "      <th>43</th>\n",
       "      <td>2020</td>\n",
       "      <td>400.683123</td>\n",
       "    </tr>\n",
       "    <tr>\n",
       "      <th>44</th>\n",
       "      <td>2021</td>\n",
       "      <td>146.627323</td>\n",
       "    </tr>\n",
       "    <tr>\n",
       "      <th>45</th>\n",
       "      <td>2022</td>\n",
       "      <td>58.301816</td>\n",
       "    </tr>\n",
       "    <tr>\n",
       "      <th>46</th>\n",
       "      <td>2023</td>\n",
       "      <td>37.704169</td>\n",
       "    </tr>\n",
       "    <tr>\n",
       "      <th>47</th>\n",
       "      <td>2024</td>\n",
       "      <td>7.680479</td>\n",
       "    </tr>\n",
       "  </tbody>\n",
       "</table>\n",
       "</div>"
      ],
      "text/plain": [
       "    release_year  total_sales\n",
       "0           1971     0.349113\n",
       "1           1977     0.349113\n",
       "2           1979     1.047338\n",
       "3           1980     8.029591\n",
       "4           1981     7.680479\n",
       "5           1982    16.757408\n",
       "6           1983    23.041436\n",
       "7           1984     6.284028\n",
       "8           1985     5.236690\n",
       "9           1986    10.822493\n",
       "10          1987    12.917169\n",
       "11          1988     9.426042\n",
       "12          1989     9.426042\n",
       "13          1990     5.585803\n",
       "14          1991    11.171606\n",
       "15          1992    10.543380\n",
       "16          1993    13.266282\n",
       "17          1994    15.440958\n",
       "18          1995    13.266282\n",
       "19          1996    19.550310\n",
       "20          1997    17.376521\n",
       "21          1998    20.197408\n",
       "22          1999    17.620958\n",
       "23          2000    17.388296\n",
       "24          2001    23.166521\n",
       "25          2002    21.334746\n",
       "26          2003    21.543859\n",
       "27          2004    27.038774\n",
       "28          2005    27.698535\n",
       "29          2006  1877.065942\n",
       "30          2007    35.173450\n",
       "31          2008    49.157479\n",
       "32          2009    52.656831\n",
       "33          2010    63.313521\n",
       "34          2011    90.691098\n",
       "35          2012   286.517042\n",
       "36          2013   337.120562\n",
       "37          2014   471.493745\n",
       "38          2015   382.844083\n",
       "39          2016   367.271252\n",
       "40          2017   462.513927\n",
       "41          2018   448.885124\n",
       "42          2019   437.195278\n",
       "43          2020   400.683123\n",
       "44          2021   146.627323\n",
       "45          2022    58.301816\n",
       "46          2023    37.704169\n",
       "47          2024     7.680479"
      ]
     },
     "execution_count": 180,
     "metadata": {},
     "output_type": "execute_result"
    }
   ],
   "source": [
    "Sales_by_year"
   ]
  },
  {
   "cell_type": "code",
   "execution_count": 182,
   "id": "7609b6d5-632e-42cc-a72f-6cba176797dc",
   "metadata": {},
   "outputs": [],
   "source": [
    "Sales_by_year_sorted = Sales_by_year.sort_values(by = 'total_sales', ascending = False)"
   ]
  },
  {
   "cell_type": "code",
   "execution_count": 184,
   "id": "62220345-4e12-4678-a129-6d0be3fca00e",
   "metadata": {},
   "outputs": [
    {
     "data": {
      "text/html": [
       "<div>\n",
       "<style scoped>\n",
       "    .dataframe tbody tr th:only-of-type {\n",
       "        vertical-align: middle;\n",
       "    }\n",
       "\n",
       "    .dataframe tbody tr th {\n",
       "        vertical-align: top;\n",
       "    }\n",
       "\n",
       "    .dataframe thead th {\n",
       "        text-align: right;\n",
       "    }\n",
       "</style>\n",
       "<table border=\"1\" class=\"dataframe\">\n",
       "  <thead>\n",
       "    <tr style=\"text-align: right;\">\n",
       "      <th></th>\n",
       "      <th>release_year</th>\n",
       "      <th>total_sales</th>\n",
       "    </tr>\n",
       "  </thead>\n",
       "  <tbody>\n",
       "    <tr>\n",
       "      <th>29</th>\n",
       "      <td>2006</td>\n",
       "      <td>1877.065942</td>\n",
       "    </tr>\n",
       "    <tr>\n",
       "      <th>37</th>\n",
       "      <td>2014</td>\n",
       "      <td>471.493745</td>\n",
       "    </tr>\n",
       "    <tr>\n",
       "      <th>40</th>\n",
       "      <td>2017</td>\n",
       "      <td>462.513927</td>\n",
       "    </tr>\n",
       "    <tr>\n",
       "      <th>41</th>\n",
       "      <td>2018</td>\n",
       "      <td>448.885124</td>\n",
       "    </tr>\n",
       "    <tr>\n",
       "      <th>42</th>\n",
       "      <td>2019</td>\n",
       "      <td>437.195278</td>\n",
       "    </tr>\n",
       "    <tr>\n",
       "      <th>43</th>\n",
       "      <td>2020</td>\n",
       "      <td>400.683123</td>\n",
       "    </tr>\n",
       "    <tr>\n",
       "      <th>38</th>\n",
       "      <td>2015</td>\n",
       "      <td>382.844083</td>\n",
       "    </tr>\n",
       "    <tr>\n",
       "      <th>39</th>\n",
       "      <td>2016</td>\n",
       "      <td>367.271252</td>\n",
       "    </tr>\n",
       "    <tr>\n",
       "      <th>36</th>\n",
       "      <td>2013</td>\n",
       "      <td>337.120562</td>\n",
       "    </tr>\n",
       "    <tr>\n",
       "      <th>35</th>\n",
       "      <td>2012</td>\n",
       "      <td>286.517042</td>\n",
       "    </tr>\n",
       "    <tr>\n",
       "      <th>44</th>\n",
       "      <td>2021</td>\n",
       "      <td>146.627323</td>\n",
       "    </tr>\n",
       "    <tr>\n",
       "      <th>34</th>\n",
       "      <td>2011</td>\n",
       "      <td>90.691098</td>\n",
       "    </tr>\n",
       "    <tr>\n",
       "      <th>33</th>\n",
       "      <td>2010</td>\n",
       "      <td>63.313521</td>\n",
       "    </tr>\n",
       "    <tr>\n",
       "      <th>45</th>\n",
       "      <td>2022</td>\n",
       "      <td>58.301816</td>\n",
       "    </tr>\n",
       "    <tr>\n",
       "      <th>32</th>\n",
       "      <td>2009</td>\n",
       "      <td>52.656831</td>\n",
       "    </tr>\n",
       "    <tr>\n",
       "      <th>31</th>\n",
       "      <td>2008</td>\n",
       "      <td>49.157479</td>\n",
       "    </tr>\n",
       "    <tr>\n",
       "      <th>46</th>\n",
       "      <td>2023</td>\n",
       "      <td>37.704169</td>\n",
       "    </tr>\n",
       "    <tr>\n",
       "      <th>30</th>\n",
       "      <td>2007</td>\n",
       "      <td>35.173450</td>\n",
       "    </tr>\n",
       "    <tr>\n",
       "      <th>28</th>\n",
       "      <td>2005</td>\n",
       "      <td>27.698535</td>\n",
       "    </tr>\n",
       "    <tr>\n",
       "      <th>27</th>\n",
       "      <td>2004</td>\n",
       "      <td>27.038774</td>\n",
       "    </tr>\n",
       "    <tr>\n",
       "      <th>24</th>\n",
       "      <td>2001</td>\n",
       "      <td>23.166521</td>\n",
       "    </tr>\n",
       "    <tr>\n",
       "      <th>6</th>\n",
       "      <td>1983</td>\n",
       "      <td>23.041436</td>\n",
       "    </tr>\n",
       "    <tr>\n",
       "      <th>26</th>\n",
       "      <td>2003</td>\n",
       "      <td>21.543859</td>\n",
       "    </tr>\n",
       "    <tr>\n",
       "      <th>25</th>\n",
       "      <td>2002</td>\n",
       "      <td>21.334746</td>\n",
       "    </tr>\n",
       "    <tr>\n",
       "      <th>21</th>\n",
       "      <td>1998</td>\n",
       "      <td>20.197408</td>\n",
       "    </tr>\n",
       "    <tr>\n",
       "      <th>19</th>\n",
       "      <td>1996</td>\n",
       "      <td>19.550310</td>\n",
       "    </tr>\n",
       "    <tr>\n",
       "      <th>22</th>\n",
       "      <td>1999</td>\n",
       "      <td>17.620958</td>\n",
       "    </tr>\n",
       "    <tr>\n",
       "      <th>23</th>\n",
       "      <td>2000</td>\n",
       "      <td>17.388296</td>\n",
       "    </tr>\n",
       "    <tr>\n",
       "      <th>20</th>\n",
       "      <td>1997</td>\n",
       "      <td>17.376521</td>\n",
       "    </tr>\n",
       "    <tr>\n",
       "      <th>5</th>\n",
       "      <td>1982</td>\n",
       "      <td>16.757408</td>\n",
       "    </tr>\n",
       "    <tr>\n",
       "      <th>17</th>\n",
       "      <td>1994</td>\n",
       "      <td>15.440958</td>\n",
       "    </tr>\n",
       "    <tr>\n",
       "      <th>16</th>\n",
       "      <td>1993</td>\n",
       "      <td>13.266282</td>\n",
       "    </tr>\n",
       "    <tr>\n",
       "      <th>18</th>\n",
       "      <td>1995</td>\n",
       "      <td>13.266282</td>\n",
       "    </tr>\n",
       "    <tr>\n",
       "      <th>10</th>\n",
       "      <td>1987</td>\n",
       "      <td>12.917169</td>\n",
       "    </tr>\n",
       "    <tr>\n",
       "      <th>14</th>\n",
       "      <td>1991</td>\n",
       "      <td>11.171606</td>\n",
       "    </tr>\n",
       "    <tr>\n",
       "      <th>9</th>\n",
       "      <td>1986</td>\n",
       "      <td>10.822493</td>\n",
       "    </tr>\n",
       "    <tr>\n",
       "      <th>15</th>\n",
       "      <td>1992</td>\n",
       "      <td>10.543380</td>\n",
       "    </tr>\n",
       "    <tr>\n",
       "      <th>12</th>\n",
       "      <td>1989</td>\n",
       "      <td>9.426042</td>\n",
       "    </tr>\n",
       "    <tr>\n",
       "      <th>11</th>\n",
       "      <td>1988</td>\n",
       "      <td>9.426042</td>\n",
       "    </tr>\n",
       "    <tr>\n",
       "      <th>3</th>\n",
       "      <td>1980</td>\n",
       "      <td>8.029591</td>\n",
       "    </tr>\n",
       "    <tr>\n",
       "      <th>47</th>\n",
       "      <td>2024</td>\n",
       "      <td>7.680479</td>\n",
       "    </tr>\n",
       "    <tr>\n",
       "      <th>4</th>\n",
       "      <td>1981</td>\n",
       "      <td>7.680479</td>\n",
       "    </tr>\n",
       "    <tr>\n",
       "      <th>7</th>\n",
       "      <td>1984</td>\n",
       "      <td>6.284028</td>\n",
       "    </tr>\n",
       "    <tr>\n",
       "      <th>13</th>\n",
       "      <td>1990</td>\n",
       "      <td>5.585803</td>\n",
       "    </tr>\n",
       "    <tr>\n",
       "      <th>8</th>\n",
       "      <td>1985</td>\n",
       "      <td>5.236690</td>\n",
       "    </tr>\n",
       "    <tr>\n",
       "      <th>2</th>\n",
       "      <td>1979</td>\n",
       "      <td>1.047338</td>\n",
       "    </tr>\n",
       "    <tr>\n",
       "      <th>1</th>\n",
       "      <td>1977</td>\n",
       "      <td>0.349113</td>\n",
       "    </tr>\n",
       "    <tr>\n",
       "      <th>0</th>\n",
       "      <td>1971</td>\n",
       "      <td>0.349113</td>\n",
       "    </tr>\n",
       "  </tbody>\n",
       "</table>\n",
       "</div>"
      ],
      "text/plain": [
       "    release_year  total_sales\n",
       "29          2006  1877.065942\n",
       "37          2014   471.493745\n",
       "40          2017   462.513927\n",
       "41          2018   448.885124\n",
       "42          2019   437.195278\n",
       "43          2020   400.683123\n",
       "38          2015   382.844083\n",
       "39          2016   367.271252\n",
       "36          2013   337.120562\n",
       "35          2012   286.517042\n",
       "44          2021   146.627323\n",
       "34          2011    90.691098\n",
       "33          2010    63.313521\n",
       "45          2022    58.301816\n",
       "32          2009    52.656831\n",
       "31          2008    49.157479\n",
       "46          2023    37.704169\n",
       "30          2007    35.173450\n",
       "28          2005    27.698535\n",
       "27          2004    27.038774\n",
       "24          2001    23.166521\n",
       "6           1983    23.041436\n",
       "26          2003    21.543859\n",
       "25          2002    21.334746\n",
       "21          1998    20.197408\n",
       "19          1996    19.550310\n",
       "22          1999    17.620958\n",
       "23          2000    17.388296\n",
       "20          1997    17.376521\n",
       "5           1982    16.757408\n",
       "17          1994    15.440958\n",
       "16          1993    13.266282\n",
       "18          1995    13.266282\n",
       "10          1987    12.917169\n",
       "14          1991    11.171606\n",
       "9           1986    10.822493\n",
       "15          1992    10.543380\n",
       "12          1989     9.426042\n",
       "11          1988     9.426042\n",
       "3           1980     8.029591\n",
       "47          2024     7.680479\n",
       "4           1981     7.680479\n",
       "7           1984     6.284028\n",
       "13          1990     5.585803\n",
       "8           1985     5.236690\n",
       "2           1979     1.047338\n",
       "1           1977     0.349113\n",
       "0           1971     0.349113"
      ]
     },
     "execution_count": 184,
     "metadata": {},
     "output_type": "execute_result"
    }
   ],
   "source": [
    "Sales_by_year_sorted"
   ]
  },
  {
   "cell_type": "markdown",
   "id": "faf27aa7-5a50-4720-ae7d-5e39174e0d13",
   "metadata": {},
   "source": [
    "#### Top year with the highest sales"
   ]
  },
  {
   "cell_type": "code",
   "execution_count": 191,
   "id": "fc29f279-4564-4869-a2b1-7d7ea9248cd3",
   "metadata": {},
   "outputs": [],
   "source": [
    "Top_10_year = Sales_by_year_sorted.head(10)"
   ]
  },
  {
   "cell_type": "code",
   "execution_count": 193,
   "id": "5fa5912b-7bf5-44dc-a492-973dad1b3c78",
   "metadata": {},
   "outputs": [
    {
     "data": {
      "text/html": [
       "<div>\n",
       "<style scoped>\n",
       "    .dataframe tbody tr th:only-of-type {\n",
       "        vertical-align: middle;\n",
       "    }\n",
       "\n",
       "    .dataframe tbody tr th {\n",
       "        vertical-align: top;\n",
       "    }\n",
       "\n",
       "    .dataframe thead th {\n",
       "        text-align: right;\n",
       "    }\n",
       "</style>\n",
       "<table border=\"1\" class=\"dataframe\">\n",
       "  <thead>\n",
       "    <tr style=\"text-align: right;\">\n",
       "      <th></th>\n",
       "      <th>release_year</th>\n",
       "      <th>total_sales</th>\n",
       "    </tr>\n",
       "  </thead>\n",
       "  <tbody>\n",
       "    <tr>\n",
       "      <th>29</th>\n",
       "      <td>2006</td>\n",
       "      <td>1877.065942</td>\n",
       "    </tr>\n",
       "    <tr>\n",
       "      <th>37</th>\n",
       "      <td>2014</td>\n",
       "      <td>471.493745</td>\n",
       "    </tr>\n",
       "    <tr>\n",
       "      <th>40</th>\n",
       "      <td>2017</td>\n",
       "      <td>462.513927</td>\n",
       "    </tr>\n",
       "    <tr>\n",
       "      <th>41</th>\n",
       "      <td>2018</td>\n",
       "      <td>448.885124</td>\n",
       "    </tr>\n",
       "    <tr>\n",
       "      <th>42</th>\n",
       "      <td>2019</td>\n",
       "      <td>437.195278</td>\n",
       "    </tr>\n",
       "    <tr>\n",
       "      <th>43</th>\n",
       "      <td>2020</td>\n",
       "      <td>400.683123</td>\n",
       "    </tr>\n",
       "    <tr>\n",
       "      <th>38</th>\n",
       "      <td>2015</td>\n",
       "      <td>382.844083</td>\n",
       "    </tr>\n",
       "    <tr>\n",
       "      <th>39</th>\n",
       "      <td>2016</td>\n",
       "      <td>367.271252</td>\n",
       "    </tr>\n",
       "    <tr>\n",
       "      <th>36</th>\n",
       "      <td>2013</td>\n",
       "      <td>337.120562</td>\n",
       "    </tr>\n",
       "    <tr>\n",
       "      <th>35</th>\n",
       "      <td>2012</td>\n",
       "      <td>286.517042</td>\n",
       "    </tr>\n",
       "  </tbody>\n",
       "</table>\n",
       "</div>"
      ],
      "text/plain": [
       "    release_year  total_sales\n",
       "29          2006  1877.065942\n",
       "37          2014   471.493745\n",
       "40          2017   462.513927\n",
       "41          2018   448.885124\n",
       "42          2019   437.195278\n",
       "43          2020   400.683123\n",
       "38          2015   382.844083\n",
       "39          2016   367.271252\n",
       "36          2013   337.120562\n",
       "35          2012   286.517042"
      ]
     },
     "execution_count": 193,
     "metadata": {},
     "output_type": "execute_result"
    }
   ],
   "source": [
    "Top_10_year"
   ]
  },
  {
   "cell_type": "code",
   "execution_count": 199,
   "id": "839413d1-d112-4bc9-b560-bfb6b722c9bd",
   "metadata": {},
   "outputs": [
    {
     "ename": "AttributeError",
     "evalue": "module 'matplotlib.pyplot' has no attribute 'sticks'",
     "output_type": "error",
     "traceback": [
      "\u001b[1;31m---------------------------------------------------------------------------\u001b[0m",
      "\u001b[1;31mAttributeError\u001b[0m                            Traceback (most recent call last)",
      "Cell \u001b[1;32mIn[199], line 6\u001b[0m\n\u001b[0;32m      4\u001b[0m plt\u001b[38;5;241m.\u001b[39mxlabel(\u001b[38;5;124m'\u001b[39m\u001b[38;5;124mTotal Sales (million)\u001b[39m\u001b[38;5;124m'\u001b[39m)\n\u001b[0;32m      5\u001b[0m plt\u001b[38;5;241m.\u001b[39mtitle(\u001b[38;5;124m'\u001b[39m\u001b[38;5;124mTop 10 years with Highest video Game sales\u001b[39m\u001b[38;5;124m'\u001b[39m)\n\u001b[1;32m----> 6\u001b[0m plt\u001b[38;5;241m.\u001b[39msticks(rotation \u001b[38;5;241m=\u001b[39m \u001b[38;5;241m45\u001b[39m)\n\u001b[0;32m      7\u001b[0m plt\u001b[38;5;241m.\u001b[39mtight_layout()\n\u001b[0;32m      8\u001b[0m plt\u001b[38;5;241m.\u001b[39mgca()\u001b[38;5;241m.\u001b[39minvert_yaxis()  \n",
      "\u001b[1;31mAttributeError\u001b[0m: module 'matplotlib.pyplot' has no attribute 'sticks'"
     ]
    },
    {
     "data": {
      "image/png": "[encoded data removed]",
      "text/plain": [
       "<Figure size 1000x600 with 1 Axes>"
      ]
     },
     "metadata": {},
     "output_type": "display_data"
    }
   ],
   "source": [
    "plt.figure(figsize=(10, 6))\n",
    "plt.barh(Top_10_year['release_year'].astype(str), Top_10_year['total_sales'], color='Green')\n",
    "plt.xlabel('release_year')\n",
    "plt.xlabel('Total Sales (million)')\n",
    "plt.title('Top 10 years with Highest video Game sales')\n",
    "plt.sticks(rotation = 45)\n",
    "plt.tight_layout()\n",
    "plt.gca().invert_yaxis()  \n",
    "plt.show()"
   ]
  },
  {
   "cell_type": "code",
   "execution_count": 195,
   "id": "7d998a8c-7290-4fd3-9b65-a63cdac3814b",
   "metadata": {},
   "outputs": [
    {
     "data": {
      "text/plain": [
       "Index(['title', 'console', 'genre', 'publisher', 'developer', 'critic_score',\n",
       "       'total_sales', 'na_sales', 'jp_sales', 'pal_sales', 'other_sales',\n",
       "       'release_date', 'last_update', 'release_year'],\n",
       "      dtype='object')"
      ]
     },
     "execution_count": 195,
     "metadata": {},
     "output_type": "execute_result"
    }
   ],
   "source": [
    "df.column"
   ]
  },
  {
   "cell_type": "code",
   "execution_count": 201,
   "id": "dcc0fb4b-c657-4ace-b61b-497eedb71e54",
   "metadata": {},
   "outputs": [
    {
     "data": {
      "image/png": "[encoded data removed]",
      "text/plain": [
       "<Figure size 1000x600 with 1 Axes>"
      ]
     },
     "metadata": {},
     "output_type": "display_data"
    }
   ],
   "source": [
    "plt.figure(figsize=(10, 6))\n",
    "plt.barh(Top_10_year['release_year'].astype(str), Top_10_year['total_sales'], color='green')\n",
    "plt.xlabel('Total Sales (million)')\n",
    "plt.title('Top 10 Years with Highest Video Game Sales')\n",
    "plt.xticks(rotation=45)  \n",
    "plt.tight_layout()\n",
    "plt.gca().invert_yaxis()  \n",
    "plt.show()"
   ]
  },
  {
   "cell_type": "code",
   "execution_count": 206,
   "id": "a8f4b06a-a868-4e92-8a56-d7c6bde9fcc2",
   "metadata": {},
   "outputs": [],
   "source": [
    "Sales_by_year = Sales_by_year.sort_values(by = 'release_year')"
   ]
  },
  {
   "cell_type": "code",
   "execution_count": 208,
   "id": "db75d1b6-0594-43d9-ad9a-f218d11ca3ec",
   "metadata": {},
   "outputs": [
    {
     "data": {
      "text/html": [
       "<div>\n",
       "<style scoped>\n",
       "    .dataframe tbody tr th:only-of-type {\n",
       "        vertical-align: middle;\n",
       "    }\n",
       "\n",
       "    .dataframe tbody tr th {\n",
       "        vertical-align: top;\n",
       "    }\n",
       "\n",
       "    .dataframe thead th {\n",
       "        text-align: right;\n",
       "    }\n",
       "</style>\n",
       "<table border=\"1\" class=\"dataframe\">\n",
       "  <thead>\n",
       "    <tr style=\"text-align: right;\">\n",
       "      <th></th>\n",
       "      <th>release_year</th>\n",
       "      <th>total_sales</th>\n",
       "    </tr>\n",
       "  </thead>\n",
       "  <tbody>\n",
       "    <tr>\n",
       "      <th>0</th>\n",
       "      <td>1971</td>\n",
       "      <td>0.349113</td>\n",
       "    </tr>\n",
       "    <tr>\n",
       "      <th>1</th>\n",
       "      <td>1977</td>\n",
       "      <td>0.349113</td>\n",
       "    </tr>\n",
       "    <tr>\n",
       "      <th>2</th>\n",
       "      <td>1979</td>\n",
       "      <td>1.047338</td>\n",
       "    </tr>\n",
       "    <tr>\n",
       "      <th>3</th>\n",
       "      <td>1980</td>\n",
       "      <td>8.029591</td>\n",
       "    </tr>\n",
       "    <tr>\n",
       "      <th>4</th>\n",
       "      <td>1981</td>\n",
       "      <td>7.680479</td>\n",
       "    </tr>\n",
       "    <tr>\n",
       "      <th>5</th>\n",
       "      <td>1982</td>\n",
       "      <td>16.757408</td>\n",
       "    </tr>\n",
       "    <tr>\n",
       "      <th>6</th>\n",
       "      <td>1983</td>\n",
       "      <td>23.041436</td>\n",
       "    </tr>\n",
       "    <tr>\n",
       "      <th>7</th>\n",
       "      <td>1984</td>\n",
       "      <td>6.284028</td>\n",
       "    </tr>\n",
       "    <tr>\n",
       "      <th>8</th>\n",
       "      <td>1985</td>\n",
       "      <td>5.236690</td>\n",
       "    </tr>\n",
       "    <tr>\n",
       "      <th>9</th>\n",
       "      <td>1986</td>\n",
       "      <td>10.822493</td>\n",
       "    </tr>\n",
       "    <tr>\n",
       "      <th>10</th>\n",
       "      <td>1987</td>\n",
       "      <td>12.917169</td>\n",
       "    </tr>\n",
       "    <tr>\n",
       "      <th>11</th>\n",
       "      <td>1988</td>\n",
       "      <td>9.426042</td>\n",
       "    </tr>\n",
       "    <tr>\n",
       "      <th>12</th>\n",
       "      <td>1989</td>\n",
       "      <td>9.426042</td>\n",
       "    </tr>\n",
       "    <tr>\n",
       "      <th>13</th>\n",
       "      <td>1990</td>\n",
       "      <td>5.585803</td>\n",
       "    </tr>\n",
       "    <tr>\n",
       "      <th>14</th>\n",
       "      <td>1991</td>\n",
       "      <td>11.171606</td>\n",
       "    </tr>\n",
       "    <tr>\n",
       "      <th>15</th>\n",
       "      <td>1992</td>\n",
       "      <td>10.543380</td>\n",
       "    </tr>\n",
       "    <tr>\n",
       "      <th>16</th>\n",
       "      <td>1993</td>\n",
       "      <td>13.266282</td>\n",
       "    </tr>\n",
       "    <tr>\n",
       "      <th>17</th>\n",
       "      <td>1994</td>\n",
       "      <td>15.440958</td>\n",
       "    </tr>\n",
       "    <tr>\n",
       "      <th>18</th>\n",
       "      <td>1995</td>\n",
       "      <td>13.266282</td>\n",
       "    </tr>\n",
       "    <tr>\n",
       "      <th>19</th>\n",
       "      <td>1996</td>\n",
       "      <td>19.550310</td>\n",
       "    </tr>\n",
       "    <tr>\n",
       "      <th>20</th>\n",
       "      <td>1997</td>\n",
       "      <td>17.376521</td>\n",
       "    </tr>\n",
       "    <tr>\n",
       "      <th>21</th>\n",
       "      <td>1998</td>\n",
       "      <td>20.197408</td>\n",
       "    </tr>\n",
       "    <tr>\n",
       "      <th>22</th>\n",
       "      <td>1999</td>\n",
       "      <td>17.620958</td>\n",
       "    </tr>\n",
       "    <tr>\n",
       "      <th>23</th>\n",
       "      <td>2000</td>\n",
       "      <td>17.388296</td>\n",
       "    </tr>\n",
       "    <tr>\n",
       "      <th>24</th>\n",
       "      <td>2001</td>\n",
       "      <td>23.166521</td>\n",
       "    </tr>\n",
       "    <tr>\n",
       "      <th>25</th>\n",
       "      <td>2002</td>\n",
       "      <td>21.334746</td>\n",
       "    </tr>\n",
       "    <tr>\n",
       "      <th>26</th>\n",
       "      <td>2003</td>\n",
       "      <td>21.543859</td>\n",
       "    </tr>\n",
       "    <tr>\n",
       "      <th>27</th>\n",
       "      <td>2004</td>\n",
       "      <td>27.038774</td>\n",
       "    </tr>\n",
       "    <tr>\n",
       "      <th>28</th>\n",
       "      <td>2005</td>\n",
       "      <td>27.698535</td>\n",
       "    </tr>\n",
       "    <tr>\n",
       "      <th>29</th>\n",
       "      <td>2006</td>\n",
       "      <td>1877.065942</td>\n",
       "    </tr>\n",
       "    <tr>\n",
       "      <th>30</th>\n",
       "      <td>2007</td>\n",
       "      <td>35.173450</td>\n",
       "    </tr>\n",
       "    <tr>\n",
       "      <th>31</th>\n",
       "      <td>2008</td>\n",
       "      <td>49.157479</td>\n",
       "    </tr>\n",
       "    <tr>\n",
       "      <th>32</th>\n",
       "      <td>2009</td>\n",
       "      <td>52.656831</td>\n",
       "    </tr>\n",
       "    <tr>\n",
       "      <th>33</th>\n",
       "      <td>2010</td>\n",
       "      <td>63.313521</td>\n",
       "    </tr>\n",
       "    <tr>\n",
       "      <th>34</th>\n",
       "      <td>2011</td>\n",
       "      <td>90.691098</td>\n",
       "    </tr>\n",
       "    <tr>\n",
       "      <th>35</th>\n",
       "      <td>2012</td>\n",
       "      <td>286.517042</td>\n",
       "    </tr>\n",
       "    <tr>\n",
       "      <th>36</th>\n",
       "      <td>2013</td>\n",
       "      <td>337.120562</td>\n",
       "    </tr>\n",
       "    <tr>\n",
       "      <th>37</th>\n",
       "      <td>2014</td>\n",
       "      <td>471.493745</td>\n",
       "    </tr>\n",
       "    <tr>\n",
       "      <th>38</th>\n",
       "      <td>2015</td>\n",
       "      <td>382.844083</td>\n",
       "    </tr>\n",
       "    <tr>\n",
       "      <th>39</th>\n",
       "      <td>2016</td>\n",
       "      <td>367.271252</td>\n",
       "    </tr>\n",
       "    <tr>\n",
       "      <th>40</th>\n",
       "      <td>2017</td>\n",
       "      <td>462.513927</td>\n",
       "    </tr>\n",
       "    <tr>\n",
       "      <th>41</th>\n",
       "      <td>2018</td>\n",
       "      <td>448.885124</td>\n",
       "    </tr>\n",
       "    <tr>\n",
       "      <th>42</th>\n",
       "      <td>2019</td>\n",
       "      <td>437.195278</td>\n",
       "    </tr>\n",
       "    <tr>\n",
       "      <th>43</th>\n",
       "      <td>2020</td>\n",
       "      <td>400.683123</td>\n",
       "    </tr>\n",
       "    <tr>\n",
       "      <th>44</th>\n",
       "      <td>2021</td>\n",
       "      <td>146.627323</td>\n",
       "    </tr>\n",
       "    <tr>\n",
       "      <th>45</th>\n",
       "      <td>2022</td>\n",
       "      <td>58.301816</td>\n",
       "    </tr>\n",
       "    <tr>\n",
       "      <th>46</th>\n",
       "      <td>2023</td>\n",
       "      <td>37.704169</td>\n",
       "    </tr>\n",
       "    <tr>\n",
       "      <th>47</th>\n",
       "      <td>2024</td>\n",
       "      <td>7.680479</td>\n",
       "    </tr>\n",
       "  </tbody>\n",
       "</table>\n",
       "</div>"
      ],
      "text/plain": [
       "    release_year  total_sales\n",
       "0           1971     0.349113\n",
       "1           1977     0.349113\n",
       "2           1979     1.047338\n",
       "3           1980     8.029591\n",
       "4           1981     7.680479\n",
       "5           1982    16.757408\n",
       "6           1983    23.041436\n",
       "7           1984     6.284028\n",
       "8           1985     5.236690\n",
       "9           1986    10.822493\n",
       "10          1987    12.917169\n",
       "11          1988     9.426042\n",
       "12          1989     9.426042\n",
       "13          1990     5.585803\n",
       "14          1991    11.171606\n",
       "15          1992    10.543380\n",
       "16          1993    13.266282\n",
       "17          1994    15.440958\n",
       "18          1995    13.266282\n",
       "19          1996    19.550310\n",
       "20          1997    17.376521\n",
       "21          1998    20.197408\n",
       "22          1999    17.620958\n",
       "23          2000    17.388296\n",
       "24          2001    23.166521\n",
       "25          2002    21.334746\n",
       "26          2003    21.543859\n",
       "27          2004    27.038774\n",
       "28          2005    27.698535\n",
       "29          2006  1877.065942\n",
       "30          2007    35.173450\n",
       "31          2008    49.157479\n",
       "32          2009    52.656831\n",
       "33          2010    63.313521\n",
       "34          2011    90.691098\n",
       "35          2012   286.517042\n",
       "36          2013   337.120562\n",
       "37          2014   471.493745\n",
       "38          2015   382.844083\n",
       "39          2016   367.271252\n",
       "40          2017   462.513927\n",
       "41          2018   448.885124\n",
       "42          2019   437.195278\n",
       "43          2020   400.683123\n",
       "44          2021   146.627323\n",
       "45          2022    58.301816\n",
       "46          2023    37.704169\n",
       "47          2024     7.680479"
      ]
     },
     "execution_count": 208,
     "metadata": {},
     "output_type": "execute_result"
    }
   ],
   "source": [
    "Sales_by_year"
   ]
  },
  {
   "cell_type": "markdown",
   "id": "89f596f9-d5d4-4d44-a4a5-a212a56bc607",
   "metadata": {},
   "source": [
    "#### To plot global year trend"
   ]
  },
  {
   "cell_type": "code",
   "execution_count": 216,
   "id": "9bf47e84-45f7-4bda-9e70-7849b3fad59b",
   "metadata": {},
   "outputs": [
    {
     "data": {
      "image/png": "[encoded data removed]",
      "text/plain": [
       "<Figure size 1200x600 with 1 Axes>"
      ]
     },
     "metadata": {},
     "output_type": "display_data"
    }
   ],
   "source": [
    "plt.figure(figsize=(12, 6))\n",
    "plt.plot(Sales_by_year['release_year'],Sales_by_year['total_sales'], marker = 'o', color='yellow')\n",
    "plt.xlabel('release_year')\n",
    "plt.ylabel('Total Sales (million)')\n",
    "plt.title('Global video Game sales Trend over years')\n",
    "plt.grid(True) \n",
    "plt.tight_layout()\n",
    "plt.show()"
   ]
  },
  {
   "cell_type": "markdown",
   "id": "d8f15534-0c6d-4505-8a4a-75711b968c80",
   "metadata": {},
   "source": [
    "#### To check if any console specialize in a particukar genre"
   ]
  },
  {
   "cell_type": "code",
   "execution_count": 221,
   "id": "fc47e64a-f88d-4aab-a360-7e0877bd62b7",
   "metadata": {},
   "outputs": [],
   "source": [
    "Console_genre_sales = df.groupby(['console', 'genre'])['total_sales'].sum()"
   ]
  },
  {
   "cell_type": "code",
   "execution_count": 223,
   "id": "54fc99f8-387e-4bf9-9304-612de3499c9b",
   "metadata": {},
   "outputs": [
    {
     "data": {
      "text/plain": [
       "console  genre       \n",
       "2600     Action           2.792901\n",
       "         Role-Playing     0.349113\n",
       "         Shooter          0.349113\n",
       "3DO      Misc             0.698225\n",
       "3DS      Action          21.531606\n",
       "                           ...    \n",
       "iOS      Shooter          2.094676\n",
       "         Simulation       2.792901\n",
       "         Sports           1.047338\n",
       "         Strategy         3.840239\n",
       "         Visual Novel     0.349113\n",
       "Name: total_sales, Length: 555, dtype: float64"
      ]
     },
     "execution_count": 223,
     "metadata": {},
     "output_type": "execute_result"
    }
   ],
   "source": [
    "Console_genre_sales"
   ]
  },
  {
   "cell_type": "code",
   "execution_count": 233,
   "id": "09e86a1d-5eea-4684-8bf9-7b7b65ff9e2b",
   "metadata": {},
   "outputs": [],
   "source": [
    "Console_genre_sales = df.groupby(['console', 'genre'])['total_sales'].sum().reset_index()\n",
    "pivot_df = Console_genre_sales.pivot(index='console', columns='genre', values='total_sales').fillna(0)"
   ]
  },
  {
   "cell_type": "code",
   "execution_count": 237,
   "id": "ca653e35-c216-4142-a1fc-57d38563e20e",
   "metadata": {},
   "outputs": [
    {
     "ename": "AttributeError",
     "evalue": "module 'matplotlib.pyplot' has no attribute 'xtick'",
     "output_type": "error",
     "traceback": [
      "\u001b[1;31m---------------------------------------------------------------------------\u001b[0m",
      "\u001b[1;31mAttributeError\u001b[0m                            Traceback (most recent call last)",
      "Cell \u001b[1;32mIn[237], line 4\u001b[0m\n\u001b[0;32m      2\u001b[0m plt\u001b[38;5;241m.\u001b[39mxlabel(\u001b[38;5;124m'\u001b[39m\u001b[38;5;124mconsole\u001b[39m\u001b[38;5;124m'\u001b[39m)\n\u001b[0;32m      3\u001b[0m plt\u001b[38;5;241m.\u001b[39mylabel(\u001b[38;5;124m'\u001b[39m\u001b[38;5;124mTotal Sales (million)\u001b[39m\u001b[38;5;124m'\u001b[39m)\n\u001b[1;32m----> 4\u001b[0m plt\u001b[38;5;241m.\u001b[39mxtick(rotation \u001b[38;5;241m=\u001b[39m \u001b[38;5;241m45\u001b[39m)\n\u001b[0;32m      5\u001b[0m plt\u001b[38;5;241m.\u001b[39mtitle(\u001b[38;5;124m'\u001b[39m\u001b[38;5;124mVideo Game sales by console and Genre\u001b[39m\u001b[38;5;124m'\u001b[39m)\n\u001b[0;32m      6\u001b[0m plt\u001b[38;5;241m.\u001b[39mlegend(title \u001b[38;5;241m=\u001b[39m \u001b[38;5;124m'\u001b[39m\u001b[38;5;124mGenre\u001b[39m\u001b[38;5;124m'\u001b[39m, bbox_to_anchor \u001b[38;5;241m=\u001b[39m (\u001b[38;5;241m1.05\u001b[39m, \u001b[38;5;241m1\u001b[39m), loc \u001b[38;5;241m=\u001b[39m \u001b[38;5;124m'\u001b[39m\u001b[38;5;124mupper left\u001b[39m\u001b[38;5;124m'\u001b[39m)\n",
      "\u001b[1;31mAttributeError\u001b[0m: module 'matplotlib.pyplot' has no attribute 'xtick'"
     ]
    },
    {
     "data": {
      "image/png": "[encoded data removed]",
      "text/plain": [
       "<Figure size 1200x700 with 1 Axes>"
      ]
     },
     "metadata": {},
     "output_type": "display_data"
    }
   ],
   "source": [
    "pivot_df.plot(kind = 'bar', figsize = (12,7))\n",
    "plt.xlabel('console')\n",
    "plt.ylabel('Total Sales (million)')\n",
    "plt.xtick(rotation = 45)\n",
    "plt.title('Video Game sales by console and Genre')\n",
    "plt.legend(title = 'Genre', bbox_to_anchor = (1.05, 1), loc = 'upper left')\n",
    "plt.tight_layout()\n",
    "plt.show()"
   ]
  },
  {
   "cell_type": "code",
   "execution_count": 239,
   "id": "87ecaa77-1347-4f6d-a6e3-3569defb0e27",
   "metadata": {},
   "outputs": [
    {
     "data": {
      "image/png": "[encoded data removed]",
      "text/plain": [
       "<Figure size 1200x700 with 1 Axes>"
      ]
     },
     "metadata": {},
     "output_type": "display_data"
    }
   ],
   "source": [
    "pivot_df.plot(kind='bar', figsize=(12, 7))\n",
    "plt.xlabel('Console')\n",
    "plt.ylabel('Total Sales (million)')\n",
    "plt.xticks(rotation=45)  # fixed this line\n",
    "plt.title('Video Game Sales by Console and Genre')\n",
    "plt.legend(title='Genre', bbox_to_anchor=(1.05, 1), loc='upper left')\n",
    "plt.tight_layout()\n",
    "plt.show()"
   ]
  },
  {
   "cell_type": "code",
   "execution_count": null,
   "id": "f3f89f2d-4527-4957-b704-17ea44ce8d78",
   "metadata": {},
   "outputs": [],
   "source": []
  }
 ],
 "metadata": {
  "kernelspec": {
   "display_name": "Python [conda env:base] *",
   "language": "python",
   "name": "conda-base-py"
  },
  "language_info": {
   "codemirror_mode": {
    "name": "ipython",
    "version": 3
   },
   "file_extension": ".py",
   "mimetype": "text/x-python",
   "name": "python",
   "nbconvert_exporter": "python",
   "pygments_lexer": "ipython3",
   "version": "3.12.4"
  }
 },
 "nbformat": 4,
 "nbformat_minor": 5
}
